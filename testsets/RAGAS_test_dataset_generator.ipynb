{
 "metadata": {
  "language_info": {
   "codemirror_mode": {
    "name": "ipython",
    "version": 3
   },
   "file_extension": ".py",
   "mimetype": "text/x-python",
   "name": "python",
   "nbconvert_exporter": "python",
   "pygments_lexer": "ipython3",
   "version": "3.12.4-final"
  },
  "orig_nbformat": 2,
  "kernelspec": {
   "name": "python3",
   "display_name": "Python 3.12.4 64-bit ('debate_bot': conda)",
   "metadata": {
    "interpreter": {
     "hash": "7d74e623265ecfdc1276b901e8262d20f6224dc580664ea9c18a5b43400305d4"
    }
   }
  }
 },
 "nbformat": 4,
 "nbformat_minor": 2,
 "cells": [
  {
   "cell_type": "code",
   "execution_count": 4,
   "metadata": {
    "tags": []
   },
   "outputs": [
    {
     "output_type": "stream",
     "name": "stdout",
     "text": [
      "Requirement already satisfied: langchain in /usr/local/Caskroom/miniconda/base/lib/python3.8/site-packages (0.2.11)\n",
      "Requirement already satisfied: async-timeout<5.0.0,>=4.0.0; python_version < \"3.11\" in /usr/local/Caskroom/miniconda/base/lib/python3.8/site-packages (from langchain) (4.0.3)\n",
      "Requirement already satisfied: langchain-core<0.3.0,>=0.2.23 in /usr/local/Caskroom/miniconda/base/lib/python3.8/site-packages (from langchain) (0.2.24)\n",
      "Requirement already satisfied: pydantic<3,>=1 in /usr/local/Caskroom/miniconda/base/lib/python3.8/site-packages (from langchain) (2.8.2)\n",
      "Requirement already satisfied: SQLAlchemy<3,>=1.4 in /usr/local/Caskroom/miniconda/base/lib/python3.8/site-packages (from langchain) (2.0.31)\n",
      "Requirement already satisfied: numpy<2,>=1; python_version < \"3.12\" in /usr/local/Caskroom/miniconda/base/lib/python3.8/site-packages (from langchain) (1.19.2)\n",
      "Requirement already satisfied: tenacity!=8.4.0,<9.0.0,>=8.1.0 in /usr/local/Caskroom/miniconda/base/lib/python3.8/site-packages (from langchain) (8.5.0)\n",
      "Requirement already satisfied: aiohttp<4.0.0,>=3.8.3 in /usr/local/Caskroom/miniconda/base/lib/python3.8/site-packages (from langchain) (3.9.5)\n",
      "Requirement already satisfied: PyYAML>=5.3 in /usr/local/Caskroom/miniconda/base/lib/python3.8/site-packages (from langchain) (6.0.1)\n",
      "Requirement already satisfied: langchain-text-splitters<0.3.0,>=0.2.0 in /usr/local/Caskroom/miniconda/base/lib/python3.8/site-packages (from langchain) (0.2.2)\n",
      "Requirement already satisfied: requests<3,>=2 in /usr/local/Caskroom/miniconda/base/lib/python3.8/site-packages (from langchain) (2.32.3)\n",
      "Requirement already satisfied: langsmith<0.2.0,>=0.1.17 in /usr/local/Caskroom/miniconda/base/lib/python3.8/site-packages (from langchain) (0.1.93)\n",
      "Requirement already satisfied: packaging<25,>=23.2 in /usr/local/Caskroom/miniconda/base/lib/python3.8/site-packages (from langchain-core<0.3.0,>=0.2.23->langchain) (24.1)\n",
      "Requirement already satisfied: jsonpatch<2.0,>=1.33 in /usr/local/Caskroom/miniconda/base/lib/python3.8/site-packages (from langchain-core<0.3.0,>=0.2.23->langchain) (1.33)\n",
      "Requirement already satisfied: pydantic-core==2.20.1 in /usr/local/Caskroom/miniconda/base/lib/python3.8/site-packages (from pydantic<3,>=1->langchain) (2.20.1)\n",
      "Requirement already satisfied: typing-extensions>=4.6.1; python_version < \"3.13\" in /usr/local/Caskroom/miniconda/base/lib/python3.8/site-packages (from pydantic<3,>=1->langchain) (4.12.2)\n",
      "Requirement already satisfied: annotated-types>=0.4.0 in /usr/local/Caskroom/miniconda/base/lib/python3.8/site-packages (from pydantic<3,>=1->langchain) (0.7.0)\n",
      "Requirement already satisfied: greenlet!=0.4.17; python_version < \"3.13\" and (platform_machine == \"aarch64\" or (platform_machine == \"ppc64le\" or (platform_machine == \"x86_64\" or (platform_machine == \"amd64\" or (platform_machine == \"AMD64\" or (platform_machine == \"win32\" or platform_machine == \"WIN32\")))))) in /usr/local/Caskroom/miniconda/base/lib/python3.8/site-packages (from SQLAlchemy<3,>=1.4->langchain) (3.0.3)\n",
      "Requirement already satisfied: yarl<2.0,>=1.0 in /usr/local/Caskroom/miniconda/base/lib/python3.8/site-packages (from aiohttp<4.0.0,>=3.8.3->langchain) (1.9.4)\n",
      "Requirement already satisfied: attrs>=17.3.0 in /usr/local/Caskroom/miniconda/base/lib/python3.8/site-packages (from aiohttp<4.0.0,>=3.8.3->langchain) (20.3.0)\n",
      "Requirement already satisfied: multidict<7.0,>=4.5 in /usr/local/Caskroom/miniconda/base/lib/python3.8/site-packages (from aiohttp<4.0.0,>=3.8.3->langchain) (6.0.5)\n",
      "Requirement already satisfied: frozenlist>=1.1.1 in /usr/local/Caskroom/miniconda/base/lib/python3.8/site-packages (from aiohttp<4.0.0,>=3.8.3->langchain) (1.4.1)\n",
      "Requirement already satisfied: aiosignal>=1.1.2 in /usr/local/Caskroom/miniconda/base/lib/python3.8/site-packages (from aiohttp<4.0.0,>=3.8.3->langchain) (1.3.1)\n",
      "Requirement already satisfied: urllib3<3,>=1.21.1 in /usr/local/Caskroom/miniconda/base/lib/python3.8/site-packages (from requests<3,>=2->langchain) (1.25.11)\n",
      "Requirement already satisfied: certifi>=2017.4.17 in /usr/local/Caskroom/miniconda/base/lib/python3.8/site-packages (from requests<3,>=2->langchain) (2020.12.5)\n",
      "Requirement already satisfied: charset-normalizer<4,>=2 in /usr/local/Caskroom/miniconda/base/lib/python3.8/site-packages (from requests<3,>=2->langchain) (3.3.2)\n",
      "Requirement already satisfied: idna<4,>=2.5 in /usr/local/Caskroom/miniconda/base/lib/python3.8/site-packages (from requests<3,>=2->langchain) (2.10)\n",
      "Requirement already satisfied: orjson<4.0.0,>=3.9.14 in /usr/local/Caskroom/miniconda/base/lib/python3.8/site-packages (from langsmith<0.2.0,>=0.1.17->langchain) (3.10.6)\n",
      "Requirement already satisfied: jsonpointer>=1.9 in /usr/local/Caskroom/miniconda/base/lib/python3.8/site-packages (from jsonpatch<2.0,>=1.33->langchain-core<0.3.0,>=0.2.23->langchain) (3.0.0)\n",
      "Requirement already satisfied: langchain_community in /usr/local/Caskroom/miniconda/base/lib/python3.8/site-packages (0.2.10)\n",
      "Requirement already satisfied: requests<3,>=2 in /usr/local/Caskroom/miniconda/base/lib/python3.8/site-packages (from langchain_community) (2.32.3)\n",
      "Requirement already satisfied: tenacity!=8.4.0,<9.0.0,>=8.1.0 in /usr/local/Caskroom/miniconda/base/lib/python3.8/site-packages (from langchain_community) (8.5.0)\n",
      "Requirement already satisfied: PyYAML>=5.3 in /usr/local/Caskroom/miniconda/base/lib/python3.8/site-packages (from langchain_community) (6.0.1)\n",
      "Requirement already satisfied: SQLAlchemy<3,>=1.4 in /usr/local/Caskroom/miniconda/base/lib/python3.8/site-packages (from langchain_community) (2.0.31)\n",
      "Requirement already satisfied: langsmith<0.2.0,>=0.1.0 in /usr/local/Caskroom/miniconda/base/lib/python3.8/site-packages (from langchain_community) (0.1.93)\n",
      "Requirement already satisfied: aiohttp<4.0.0,>=3.8.3 in /usr/local/Caskroom/miniconda/base/lib/python3.8/site-packages (from langchain_community) (3.9.5)\n",
      "Requirement already satisfied: numpy<2,>=1; python_version < \"3.12\" in /usr/local/Caskroom/miniconda/base/lib/python3.8/site-packages (from langchain_community) (1.19.2)\n",
      "Requirement already satisfied: langchain-core<0.3.0,>=0.2.23 in /usr/local/Caskroom/miniconda/base/lib/python3.8/site-packages (from langchain_community) (0.2.24)\n",
      "Requirement already satisfied: dataclasses-json<0.7,>=0.5.7 in /usr/local/Caskroom/miniconda/base/lib/python3.8/site-packages (from langchain_community) (0.6.7)\n",
      "Requirement already satisfied: langchain<0.3.0,>=0.2.9 in /usr/local/Caskroom/miniconda/base/lib/python3.8/site-packages (from langchain_community) (0.2.11)\n",
      "Requirement already satisfied: idna<4,>=2.5 in /usr/local/Caskroom/miniconda/base/lib/python3.8/site-packages (from requests<3,>=2->langchain_community) (2.10)\n",
      "Requirement already satisfied: urllib3<3,>=1.21.1 in /usr/local/Caskroom/miniconda/base/lib/python3.8/site-packages (from requests<3,>=2->langchain_community) (1.25.11)\n",
      "Requirement already satisfied: charset-normalizer<4,>=2 in /usr/local/Caskroom/miniconda/base/lib/python3.8/site-packages (from requests<3,>=2->langchain_community) (3.3.2)\n",
      "Requirement already satisfied: certifi>=2017.4.17 in /usr/local/Caskroom/miniconda/base/lib/python3.8/site-packages (from requests<3,>=2->langchain_community) (2020.12.5)\n",
      "Requirement already satisfied: greenlet!=0.4.17; python_version < \"3.13\" and (platform_machine == \"aarch64\" or (platform_machine == \"ppc64le\" or (platform_machine == \"x86_64\" or (platform_machine == \"amd64\" or (platform_machine == \"AMD64\" or (platform_machine == \"win32\" or platform_machine == \"WIN32\")))))) in /usr/local/Caskroom/miniconda/base/lib/python3.8/site-packages (from SQLAlchemy<3,>=1.4->langchain_community) (3.0.3)\n",
      "Requirement already satisfied: typing-extensions>=4.6.0 in /usr/local/Caskroom/miniconda/base/lib/python3.8/site-packages (from SQLAlchemy<3,>=1.4->langchain_community) (4.12.2)\n",
      "Requirement already satisfied: pydantic<3,>=1; python_full_version < \"3.12.4\" in /usr/local/Caskroom/miniconda/base/lib/python3.8/site-packages (from langsmith<0.2.0,>=0.1.0->langchain_community) (2.8.2)\n",
      "Requirement already satisfied: orjson<4.0.0,>=3.9.14 in /usr/local/Caskroom/miniconda/base/lib/python3.8/site-packages (from langsmith<0.2.0,>=0.1.0->langchain_community) (3.10.6)\n",
      "Requirement already satisfied: async-timeout<5.0,>=4.0; python_version < \"3.11\" in /usr/local/Caskroom/miniconda/base/lib/python3.8/site-packages (from aiohttp<4.0.0,>=3.8.3->langchain_community) (4.0.3)\n",
      "Requirement already satisfied: yarl<2.0,>=1.0 in /usr/local/Caskroom/miniconda/base/lib/python3.8/site-packages (from aiohttp<4.0.0,>=3.8.3->langchain_community) (1.9.4)\n",
      "Requirement already satisfied: frozenlist>=1.1.1 in /usr/local/Caskroom/miniconda/base/lib/python3.8/site-packages (from aiohttp<4.0.0,>=3.8.3->langchain_community) (1.4.1)\n",
      "Requirement already satisfied: multidict<7.0,>=4.5 in /usr/local/Caskroom/miniconda/base/lib/python3.8/site-packages (from aiohttp<4.0.0,>=3.8.3->langchain_community) (6.0.5)\n",
      "Requirement already satisfied: attrs>=17.3.0 in /usr/local/Caskroom/miniconda/base/lib/python3.8/site-packages (from aiohttp<4.0.0,>=3.8.3->langchain_community) (20.3.0)\n",
      "Requirement already satisfied: aiosignal>=1.1.2 in /usr/local/Caskroom/miniconda/base/lib/python3.8/site-packages (from aiohttp<4.0.0,>=3.8.3->langchain_community) (1.3.1)\n",
      "Requirement already satisfied: jsonpatch<2.0,>=1.33 in /usr/local/Caskroom/miniconda/base/lib/python3.8/site-packages (from langchain-core<0.3.0,>=0.2.23->langchain_community) (1.33)\n",
      "Requirement already satisfied: packaging<25,>=23.2 in /usr/local/Caskroom/miniconda/base/lib/python3.8/site-packages (from langchain-core<0.3.0,>=0.2.23->langchain_community) (24.1)\n",
      "Requirement already satisfied: typing-inspect<1,>=0.4.0 in /usr/local/Caskroom/miniconda/base/lib/python3.8/site-packages (from dataclasses-json<0.7,>=0.5.7->langchain_community) (0.9.0)\n",
      "Requirement already satisfied: marshmallow<4.0.0,>=3.18.0 in /usr/local/Caskroom/miniconda/base/lib/python3.8/site-packages (from dataclasses-json<0.7,>=0.5.7->langchain_community) (3.21.3)\n",
      "Requirement already satisfied: langchain-text-splitters<0.3.0,>=0.2.0 in /usr/local/Caskroom/miniconda/base/lib/python3.8/site-packages (from langchain<0.3.0,>=0.2.9->langchain_community) (0.2.2)\n",
      "Requirement already satisfied: annotated-types>=0.4.0 in /usr/local/Caskroom/miniconda/base/lib/python3.8/site-packages (from pydantic<3,>=1; python_full_version < \"3.12.4\"->langsmith<0.2.0,>=0.1.0->langchain_community) (0.7.0)\n",
      "Requirement already satisfied: pydantic-core==2.20.1 in /usr/local/Caskroom/miniconda/base/lib/python3.8/site-packages (from pydantic<3,>=1; python_full_version < \"3.12.4\"->langsmith<0.2.0,>=0.1.0->langchain_community) (2.20.1)\n",
      "Requirement already satisfied: jsonpointer>=1.9 in /usr/local/Caskroom/miniconda/base/lib/python3.8/site-packages (from jsonpatch<2.0,>=1.33->langchain-core<0.3.0,>=0.2.23->langchain_community) (3.0.0)\n",
      "Requirement already satisfied: mypy-extensions>=0.3.0 in /usr/local/Caskroom/miniconda/base/lib/python3.8/site-packages (from typing-inspect<1,>=0.4.0->dataclasses-json<0.7,>=0.5.7->langchain_community) (1.0.0)\n",
      "Requirement already satisfied: openai in /usr/local/Caskroom/miniconda/base/lib/python3.8/site-packages (1.37.1)\n",
      "Requirement already satisfied: pydantic<3,>=1.9.0 in /usr/local/Caskroom/miniconda/base/lib/python3.8/site-packages (from openai) (2.8.2)\n",
      "Requirement already satisfied: typing-extensions<5,>=4.7 in /usr/local/Caskroom/miniconda/base/lib/python3.8/site-packages (from openai) (4.12.2)\n",
      "Requirement already satisfied: sniffio in /usr/local/Caskroom/miniconda/base/lib/python3.8/site-packages (from openai) (1.3.1)\n",
      "Requirement already satisfied: distro<2,>=1.7.0 in /usr/local/Caskroom/miniconda/base/lib/python3.8/site-packages (from openai) (1.9.0)\n",
      "Requirement already satisfied: httpx<1,>=0.23.0 in /usr/local/Caskroom/miniconda/base/lib/python3.8/site-packages (from openai) (0.27.0)\n",
      "Requirement already satisfied: anyio<5,>=3.5.0 in /usr/local/Caskroom/miniconda/base/lib/python3.8/site-packages (from openai) (4.4.0)\n",
      "Requirement already satisfied: tqdm>4 in /usr/local/Caskroom/miniconda/base/lib/python3.8/site-packages (from openai) (4.51.0)\n",
      "Requirement already satisfied: annotated-types>=0.4.0 in /usr/local/Caskroom/miniconda/base/lib/python3.8/site-packages (from pydantic<3,>=1.9.0->openai) (0.7.0)\n",
      "Requirement already satisfied: pydantic-core==2.20.1 in /usr/local/Caskroom/miniconda/base/lib/python3.8/site-packages (from pydantic<3,>=1.9.0->openai) (2.20.1)\n",
      "Requirement already satisfied: idna in /usr/local/Caskroom/miniconda/base/lib/python3.8/site-packages (from httpx<1,>=0.23.0->openai) (2.10)\n",
      "Requirement already satisfied: certifi in /usr/local/Caskroom/miniconda/base/lib/python3.8/site-packages (from httpx<1,>=0.23.0->openai) (2020.12.5)\n",
      "Requirement already satisfied: httpcore==1.* in /usr/local/Caskroom/miniconda/base/lib/python3.8/site-packages (from httpx<1,>=0.23.0->openai) (1.0.5)\n",
      "Requirement already satisfied: exceptiongroup>=1.0.2; python_version < \"3.11\" in /usr/local/Caskroom/miniconda/base/lib/python3.8/site-packages (from anyio<5,>=3.5.0->openai) (1.2.2)\n",
      "Requirement already satisfied: h11<0.15,>=0.13 in /usr/local/Caskroom/miniconda/base/lib/python3.8/site-packages (from httpcore==1.*->httpx<1,>=0.23.0->openai) (0.14.0)\n"
     ]
    }
   ],
   "source": [
    "!pip install langchain\n",
    "!pip install langchain_community\n",
    "!pip install openai\n",
    "!pip install unstructured\n",
    "# pip install libmagic\n",
    "# pip install python-magic-bin==0.4.14\n",
    "# !pip install tiktoken\n",
    "# !pip install faiss-gpu\n",
    "# !pip install langchain_experimental\n",
    "# !pip install \"langchain[docarray]\""
   ]
  },
  {
   "cell_type": "code",
   "execution_count": 1,
   "metadata": {},
   "outputs": [
    {
     "output_type": "stream",
     "name": "stdout",
     "text": [
      "OPENAI_API_KEY has been set!\n"
     ]
    }
   ],
   "source": [
    "import os\n",
    "\n",
    "# Prompt the user for their OpenAI API key\n",
    "api_key = input(\"Please enter your OpenAI API key: \")\n",
    "\n",
    "# Set the API key as an environment variable\n",
    "os.environ[\"OPENAI_API_KEY\"] = api_key\n",
    "\n",
    "# Optionally, check that the environment variable was set correctly\n",
    "print(\"OPENAI_API_KEY has been set!\")\n"
   ]
  },
  {
   "cell_type": "code",
   "execution_count": 2,
   "metadata": {},
   "outputs": [],
   "source": [
    "from langchain_community.document_loaders import DirectoryLoader\n",
    "loader = DirectoryLoader(\"sources/\")\n",
    "documents = loader.load()"
   ]
  },
  {
   "cell_type": "code",
   "execution_count": 15,
   "metadata": {},
   "outputs": [
    {
     "output_type": "stream",
     "name": "stdout",
     "text": [
      "sources/trump_state_of_union_address.txt\nsources/trump_faith_and_freedom_coalition_speech.txt\n"
     ]
    }
   ],
   "source": [
    "for document in documents:\n",
    "    print(document.metadata['source'])\n",
    "    document.metadata['filename'] = document.metadata['source']"
   ]
  },
  {
   "cell_type": "code",
   "execution_count": 17,
   "metadata": {},
   "outputs": [],
   "source": [
    "from ragas.testset.generator import TestsetGenerator\n",
    "from ragas.testset.evolutions import simple, reasoning, multi_context\n",
    "from langchain_openai import ChatOpenAI, OpenAIEmbeddings\n",
    "\n",
    "# generator with openai models\n",
    "generator_llm = ChatOpenAI(model=\"gpt-4o-mini\")\n",
    "critic_llm = ChatOpenAI(model=\"gpt-4\")\n",
    "embeddings = OpenAIEmbeddings()\n",
    "\n",
    "generator = TestsetGenerator.from_langchain(\n",
    "    generator_llm,\n",
    "    critic_llm,\n",
    "    embeddings\n",
    ")\n",
    "\n",
    "# generate testset\n",
    "testset = generator.generate_with_langchain_docs(documents, test_size=10, distributions={simple: 0.5, reasoning: 0.25, multi_context: 0.25})"
   ]
  },
  {
   "cell_type": "code",
   "execution_count": null,
   "metadata": {},
   "outputs": [],
   "source": [
    "testset.to_pandas()"
   ]
  },
  {
   "cell_type": "code",
   "execution_count": 1,
   "metadata": {},
   "outputs": [],
   "source": [
    "import pandas as pd"
   ]
  },
  {
   "cell_type": "code",
   "execution_count": null,
   "metadata": {},
   "outputs": [],
   "source": []
  }
 ]
}