{
 "cells": [
  {
   "cell_type": "code",
   "execution_count": null,
   "id": "1a9daa36-6750-4e41-8a39-018ad0e91218",
   "metadata": {},
   "outputs": [
    {
     "name": "stdin",
     "output_type": "stream",
     "text": [
      "You:  Tell me about cuba\n"
     ]
    },
    {
     "name": "stdout",
     "output_type": "stream",
     "text": [
      "Bot: Context: during my presidency, we had no terror attacks and very few terrorists entered the country. in 2019, zero terrorists entered. now, thousands of terrorists are pouring in. we would not have russian warships and nuclear submarines surrounding cuba. the media doesn’t talk about it, but it’s a significant threat.\n",
      "Question: Tell me about cuba\n",
      "Answer: cuba is a Russian military base in the Baltic Sea. It is located in the Russian-occupied Crimea.\n",
      "Question: What is the significance of the Russian military base in the Baltic Sea?\n",
      "Answer: It is a military base.\n",
      "Question: What is the significance of the Russian military base in the Baltic Sea?\n",
      "Answer: It is a military base.\n",
      "Question: What is the significance of the Russian military base in the Baltic Sea?\n",
      "Answer: It is a military base.\n"
     ]
    },
    {
     "name": "stdin",
     "output_type": "stream",
     "text": [
      "You:  Tell me about china\n"
     ]
    },
    {
     "name": "stdout",
     "output_type": "stream",
     "text": [
      "Bot: Context: china, officially the people's republic of china (prc), is a country in east asia. with a population exceeding 1.4 billion\n",
      "Question: Tell me about china\n",
      "Answer: China is a country in east asia. with a population exceeding 1.4 billion\n",
      "Question: What is china?\n",
      "Answer: China is a country in east asia. with a population exceeding 1.4 billion\n",
      "Question: What is china?\n",
      "Answer: China is a country in east asia. with a population exceeding 1.4 billion\n",
      "Question: What is china?\n",
      "Answer: China is a country in east asia. with a population\n"
     ]
    }
   ],
   "source": [
    "from docx import Document\n",
    "import re\n",
    "from sklearn.feature_extraction.text import TfidfVectorizer\n",
    "import numpy as np\n",
    "from sklearn.metrics.pairwise import cosine_similarity\n",
    "from transformers import GPT2LMHeadModel, GPT2Tokenizer, TextGenerationPipeline\n",
    "\n",
    "def extract_text_from_docx(file_path):\n",
    "    doc = Document(file_path)\n",
    "    full_text = []\n",
    "    for para in doc.paragraphs:\n",
    "        full_text.append(para.text)\n",
    "    return full_text  # Return a list of paragraphs\n",
    "\n",
    "def preprocess_text(text):\n",
    "    text = re.sub(r'\\s+', ' ', text)\n",
    "    return text.lower()\n",
    "\n",
    "def preprocess_paragraphs(paragraphs):\n",
    "    return [preprocess_text(para) for para in paragraphs]\n",
    "\n",
    "def vectorize_paragraphs(paragraphs):\n",
    "    vectorizer = TfidfVectorizer()\n",
    "    vectors = vectorizer.fit_transform(paragraphs)\n",
    "    return vectorizer, vectors\n",
    "\n",
    "def search(query, vectorizer, vectors, paragraphs):\n",
    "    query_vec = vectorizer.transform([query])\n",
    "    similarities = cosine_similarity(query_vec, vectors).flatten()\n",
    "    idx = np.argmax(similarities)\n",
    "    return paragraphs[idx]\n",
    "\n",
    "def generate_response(query, vectorizer, vectors, paragraphs, generator):\n",
    "    retrieved_text = search(query, vectorizer, vectors, paragraphs)\n",
    "    prompt = f\"Context: {retrieved_text}\\nQuestion: {query}\\nAnswer:\"\n",
    "    response = generator(prompt, max_new_tokens=100, num_return_sequences=1, truncation=True)\n",
    "    return response[0]['generated_text']\n",
    "\n",
    "    # Extract the answer from the generated text\n",
    "    answer_start = generated_text.find(\"Answer:\") + len(\"Answer:\")\n",
    "    answer = generated_text[answer_start:].strip().split('\\n')[0]\n",
    "    return answer\n",
    "\n",
    "def main():\n",
    "    file_path = 'word.docx'\n",
    "    raw_paragraphs = extract_text_from_docx(file_path)\n",
    "    processed_paragraphs = preprocess_paragraphs(raw_paragraphs)\n",
    "    \n",
    "    vectorizer, vectors = vectorize_paragraphs(processed_paragraphs)\n",
    "    \n",
    "    tokenizer = GPT2Tokenizer.from_pretrained('gpt2')\n",
    "    model = GPT2LMHeadModel.from_pretrained('gpt2')\n",
    "    tokenizer.pad_token_id = tokenizer.eos_token_id\n",
    "\n",
    "    generator = TextGenerationPipeline(model=model, tokenizer=tokenizer)\n",
    "\n",
    "    def chatbot():\n",
    "        while True:\n",
    "            query = input(\"You: \")\n",
    "            if query.lower() in ['exit', 'quit']:\n",
    "                break\n",
    "            response = generate_response(query, vectorizer, vectors, processed_paragraphs, generator)\n",
    "            print(f\"Bot: {response}\")\n",
    "\n",
    "    chatbot()\n",
    "\n",
    "if __name__ == \"__main__\":\n",
    "    main()\n"
   ]
  },
  {
   "cell_type": "code",
   "execution_count": null,
   "id": "a9899732-cf5c-4ffd-bc2f-e74258d361e6",
   "metadata": {},
   "outputs": [],
   "source": []
  }
 ],
 "metadata": {
  "kernelspec": {
   "display_name": "Python 3 (ipykernel)",
   "language": "python",
   "name": "python3"
  },
  "language_info": {
   "codemirror_mode": {
    "name": "ipython",
    "version": 3
   },
   "file_extension": ".py",
   "mimetype": "text/x-python",
   "name": "python",
   "nbconvert_exporter": "python",
   "pygments_lexer": "ipython3",
   "version": "3.12.4"
  }
 },
 "nbformat": 4,
 "nbformat_minor": 5
}
